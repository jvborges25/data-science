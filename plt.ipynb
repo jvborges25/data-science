{
 "cells": [
  {
   "cell_type": "markdown",
   "metadata": {},
   "source": [
    "from matplotlib import pyplot as plt"
   ]
  },
  {
   "cell_type": "markdown",
   "metadata": {},
   "source": [
    "years = [1950, 1960, 1970, 1980, 1990, 2000, 2010]\n",
    "gdb = [300.2, 543.3, 1075.9, 2862.5, 5979.6, 10289.7, 14958.3]"
   ]
  },
  {
   "cell_type": "markdown",
   "metadata": {},
   "source": [
    "# cria um grafico de linhas, anos no eixo x, gdp no eixo y\n",
    "plt.plot(years, gdp, color='green', marker='o', linestyle='solid')\n",
    "# adiciona um titulo\n",
    "plt.title(\"GDP nominal\")\n",
    "# adiciona um selo no eixo y\n",
    "plt.ylabel(\"Bilhões de $\")\n",
    "plt.show()"
   ]
  },
  {
   "cell_type": "markdown",
   "metadata": {},
   "source": [
    "movies = [\"Annie Hall\", \"Ben-Hur\", \"Casablanca\", \"Gandhi\", \"West Side Story\"]\n",
    "num_oscars = [5, 11, 3, 8, 10]"
   ]
  },
  {
   "cell_type": "markdown",
   "metadata": {},
   "source": [
    "# barras possuem o tamanho padrao de 0.8 entao adicionaremos 0.1 as\n",
    "# cordenadas a esquerda para que cada barra seja centralizada\n",
    "xs = [i + 0.1 for i, _ in enumerate(movies)]"
   ]
  },
  {
   "cell_type": "markdown",
   "metadata": {},
   "source": [
    "# as barras do grafico com as cordenadas x a esquerda [xs], alturas [num_oscars]\n",
    "plt.bar(xs, num_oscars)\n",
    "plt.ylabel(\"# de Premiaçoes\")\n",
    "plt.title(\"Meus Filmes Favoritos\")\n",
    "# nomeia o eixo x com nomes de filmes na barra central\n",
    "plt.xticks([i + 0.5 for i, _ in enumerate(movies)], movies)\n",
    "plt.show()"
   ]
  },
  {
   "cell_type": "markdown",
   "metadata": {},
   "source": [
    "variance = [1, 2, 4, 8, 16, 32, 64, 128, 256]\n",
    "bias_squared = [256, 128, 64, 32, 16, 8, 4, 2, 1]\n",
    "total_error = [x + y for x, y in zip(variance, bias_squared)]\n",
    "xs = [i for i, _ in enumerate(variance)]"
   ]
  },
  {
   "cell_type": "markdown",
   "metadata": {},
   "source": [
    "# podemos fazer multiplas chamadas para plt.plot\n",
    "# para mostrar multiplas series no mesmo grafico\n",
    "plt.plot(xs, variance, 'g-', label='variance') # linha verde solida\n",
    "plt.plot(xs, bias_squared, 'r-', label='bias^2') # linha com linha de pontos tracejado vermelho\n",
    "plt.plot(xs, total_error, 'b:', label='total_error') # linha com pontilhado azul\n",
    "plt.legend(loc=9)\n",
    "plt.xlabel(\"complexidade do modelo\")\n",
    "plt.title(\"compromisso entre polarizacao e variancia\")\n",
    "plt.show()"
   ]
  }
 ],
 "metadata": {
  "language_info": {
   "name": "python"
  },
  "orig_nbformat": 4
 },
 "nbformat": 4,
 "nbformat_minor": 2
}
